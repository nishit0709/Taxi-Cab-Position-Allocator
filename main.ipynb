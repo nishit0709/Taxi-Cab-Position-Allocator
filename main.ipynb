{
 "cells": [
  {
   "cell_type": "markdown",
   "id": "ng4YdjRkRjag",
   "metadata": {
    "id": "ng4YdjRkRjag"
   },
   "source": [
    "# **Library Imports**"
   ]
  },
  {
   "cell_type": "code",
   "execution_count": null,
   "id": "5fe7a0c6",
   "metadata": {
    "ExecuteTime": {
     "end_time": "2021-06-05T08:40:52.214271Z",
     "start_time": "2021-06-05T08:40:50.628053Z"
    },
    "colab": {
     "base_uri": "https://localhost:8080/"
    },
    "id": "5fe7a0c6",
    "outputId": "32405566-ccb6-458a-ddc4-159bd9337ddc"
   },
   "outputs": [],
   "source": [
    "import math\n",
    "import datetime\n",
    "import numpy as np\n",
    "import pandas as pd\n",
    "import haversine as hs\n",
    "import plotly.express as px\n",
    "from collections import Counter\n",
    "from sklearn.cluster import KMeans\n",
    "from geopy.geocoders import Nominatim\n",
    "\n",
    "pd.options.mode.chained_assignment = None"
   ]
  },
  {
   "cell_type": "markdown",
   "id": "YUgyN4wzRp6I",
   "metadata": {
    "id": "YUgyN4wzRp6I"
   },
   "source": [
    "# **Encoding Functions**"
   ]
  },
  {
   "cell_type": "code",
   "execution_count": null,
   "id": "c8df7859",
   "metadata": {
    "ExecuteTime": {
     "end_time": "2021-06-05T08:40:52.527524Z",
     "start_time": "2021-06-05T08:40:52.507548Z"
    },
    "id": "c8df7859"
   },
   "outputs": [],
   "source": [
    "def get_time_zone(time):\n",
    "    t = time.index(':')\n",
    "    h = int(time[0:t])\n",
    "    m = int(time[t + 1:])\n",
    "    if m > 30:\n",
    "        return h * 2 + 1\n",
    "    else:\n",
    "        return h * 2\n",
    "\n",
    "\n",
    "def get_day_order(date):\n",
    "    born = datetime.datetime.strptime(date, '%m/%d/%Y').weekday()\n",
    "    return born\n",
    "\n",
    "\n",
    "def encode_day_and_time():\n",
    "    dataset_date = (dataset.date_of_trip).to_numpy()\n",
    "    dataset_time = (dataset.time_of_trip).to_numpy()\n",
    "    for i in range(0, len(dataset_date)):\n",
    "        dataset_date[i] = get_day_order(dataset_date[i])\n",
    "        dataset_time[i] = get_time_zone(dataset_time[i])\n",
    "    return dataset_date, dataset_time"
   ]
  },
  {
   "cell_type": "markdown",
   "id": "5jWFpgDdRw9Z",
   "metadata": {
    "id": "5jWFpgDdRw9Z"
   },
   "source": [
    "# **Data Pre-processing**"
   ]
  },
  {
   "cell_type": "code",
   "execution_count": null,
   "id": "28c482c9",
   "metadata": {
    "ExecuteTime": {
     "end_time": "2021-06-05T08:40:54.248255Z",
     "start_time": "2021-06-05T08:40:54.225494Z"
    },
    "id": "28c482c9"
   },
   "outputs": [],
   "source": [
    "def get_last_index(column, i, a):\n",
    "    m = len(column)\n",
    "    while i < m and column[i] == a:\n",
    "        i += 1\n",
    "    return i\n",
    "\n",
    "\n",
    "def in_array():\n",
    "    start_row_time = 0\n",
    "    dataset.date_of_trip, dataset.time_of_trip = encode_day_and_time()\n",
    "    dataset.sort_values(by=['date_of_trip', 'time_of_trip'], inplace=True)\n",
    "    for i in range(7):\n",
    "        for j in range(48):\n",
    "            end_row_time = get_last_index(dataset[['time_of_trip']].to_numpy(), start_row_time, j)\n",
    "            fl_data = (dataset.iloc[start_row_time:end_row_time, 2:]).values.tolist()\n",
    "            arr[i][j] = fl_data\n",
    "            start_row_time = end_row_time"
   ]
  },
  {
   "cell_type": "markdown",
   "id": "JDj9rV_aR6GS",
   "metadata": {
    "id": "JDj9rV_aR6GS"
   },
   "source": [
    "# **Clustering Mechanism**"
   ]
  },
  {
   "cell_type": "code",
   "execution_count": null,
   "id": "6b098423",
   "metadata": {
    "ExecuteTime": {
     "end_time": "2021-06-05T08:40:55.697242Z",
     "start_time": "2021-06-05T08:40:55.685034Z"
    },
    "id": "6b098423"
   },
   "outputs": [],
   "source": [
    "#Decides the optimal number of clusters based on the data size\n",
    "def get_optimal_clusters(data):\n",
    "    length = len(data)\n",
    "    n=(length-length%10)/10\n",
    "    return int(n)\n",
    "\n",
    "\n",
    "#Forms the Clusters \n",
    "def get_clusters(data):\n",
    "  n = get_optimal_clusters(data)\n",
    "  kmeans = KMeans(n_clusters=n, init='k-means++', random_state=42, n_init='auto')\n",
    "  kmeans.fit(data)\n",
    "  return [kmeans.labels_ ,kmeans.cluster_centers_]"
   ]
  },
  {
   "cell_type": "markdown",
   "id": "ONAnni52HxgM",
   "metadata": {
    "id": "ONAnni52HxgM"
   },
   "source": [
    "# **Get Coordinates**"
   ]
  },
  {
   "cell_type": "code",
   "execution_count": null,
   "id": "OQ1SlxhxH3D4",
   "metadata": {
    "ExecuteTime": {
     "end_time": "2021-06-05T08:43:52.175447Z",
     "start_time": "2021-06-05T08:43:52.167891Z"
    },
    "id": "OQ1SlxhxH3D4"
   },
   "outputs": [],
   "source": [
    "#Just  used to convert logical address to coordinates\n",
    "def get_Coordinates(position):\n",
    "  geolocator = Nominatim(user_agent=\"this_is_a_very_long_weird_ass_string\")\n",
    "  location = geolocator.geocode(position)\n",
    "  return((location.latitude, location.longitude))"
   ]
  },
  {
   "cell_type": "markdown",
   "id": "8ZOXAG-Gg2I7",
   "metadata": {
    "id": "8ZOXAG-Gg2I7"
   },
   "source": [
    "# **Distance from cluster centroids**"
   ]
  },
  {
   "cell_type": "code",
   "execution_count": null,
   "id": "sgAFeu3wUxK1",
   "metadata": {
    "ExecuteTime": {
     "end_time": "2021-06-05T08:43:53.401378Z",
     "start_time": "2021-06-05T08:43:53.389078Z"
    },
    "id": "sgAFeu3wUxK1"
   },
   "outputs": [],
   "source": [
    "def get_Distance(cp,position):\n",
    "    loc1 = get_Coordinates(position)\n",
    "    zones[1] = np.append(zones[1],[[loc1[0],loc1[1]]],axis =0);\n",
    "    dist = [[],[]]\n",
    "    for n in cp:\n",
    "        loc2 = (n[0],n[1])\n",
    "        x = hs.haversine(loc1,loc2)\n",
    "        dist[0].append(round(x,2))\n",
    "        dist[1].append('Cluster Head');\n",
    "    dist[0].append(1);\n",
    "    dist[1].append('Current Location');\n",
    "    return dist"
   ]
  },
  {
   "cell_type": "markdown",
   "id": "kAZWsJHySXCn",
   "metadata": {
    "id": "kAZWsJHySXCn"
   },
   "source": [
    "# **Data Plotting**"
   ]
  },
  {
   "cell_type": "code",
   "execution_count": null,
   "id": "7e2d20ce",
   "metadata": {
    "ExecuteTime": {
     "end_time": "2021-06-05T08:40:59.445829Z",
     "start_time": "2021-06-05T08:40:59.431581Z"
    },
    "id": "7e2d20ce"
   },
   "outputs": [],
   "source": [
    "def plot_data(data1, data2):\n",
    "    \n",
    "    #Plot-1\n",
    "    fig1 = px.scatter_mapbox(data1,\n",
    "                             lat=\"Latitude\",\n",
    "                             lon=\"Longitude\",\n",
    "                             color=\"Zone\",\n",
    "                             color_continuous_scale=px.colors.cyclical.IceFire,\n",
    "                             size_max=20,\n",
    "                             zoom=10,\n",
    "                             title = 'Cluster Formations',\n",
    "                             mapbox_style=\"carto-positron\"\n",
    "                             )\n",
    "    #Plot-2\n",
    "    fig2 = px.scatter_mapbox(data2,\n",
    "                             lat=\"Centroid Latitude\",\n",
    "                             lon=\"Centroid Longitude\",\n",
    "                             labels = {'Distance':'Distance from current location(km): '} ,\n",
    "                             hover_data = ['Distance'],\n",
    "                             color ='Point',\n",
    "                             size = 'Utility',\n",
    "                             size_max=20,\n",
    "                             zoom=10,\n",
    "                             title = 'Distance from Cluster Heads',                    \n",
    "                             mapbox_style=\"carto-positron\"\n",
    "                             )\n",
    "\n",
    "    fig1.show()\n",
    "    fig2.show()"
   ]
  },
  {
   "cell_type": "markdown",
   "id": "eGhrv4_cjXxB",
   "metadata": {
    "id": "eGhrv4_cjXxB"
   },
   "source": [
    "# **Get Day Code**"
   ]
  },
  {
   "cell_type": "code",
   "execution_count": null,
   "id": "SsSdJTjzjXRX",
   "metadata": {
    "ExecuteTime": {
     "end_time": "2021-06-05T08:41:01.038907Z",
     "start_time": "2021-06-05T08:41:01.028424Z"
    },
    "id": "SsSdJTjzjXRX"
   },
   "outputs": [],
   "source": [
    "#Converts user Input of current Day to Day Code\n",
    "def getdayCode(day):\n",
    "  day = day.lower()\n",
    "  if day == 'monday': return 0\n",
    "  if day == 'tuesday': return 1\n",
    "  if day == 'wednesday': return 2\n",
    "  if day == 'thursday': return 3\n",
    "  if day == 'friday': return 4\n",
    "  if day == 'saturday': return 5\n",
    "  else: return 6 "
   ]
  },
  {
   "cell_type": "markdown",
   "id": "eYPFs3Ex737N",
   "metadata": {
    "id": "eYPFs3Ex737N"
   },
   "source": [
    "# **Utility Calculation**"
   ]
  },
  {
   "cell_type": "code",
   "execution_count": null,
   "id": "_UI1RGGs8Ed4",
   "metadata": {
    "ExecuteTime": {
     "end_time": "2021-06-05T08:41:02.629219Z",
     "start_time": "2021-06-05T08:41:02.613094Z"
    },
    "id": "_UI1RGGs8Ed4"
   },
   "outputs": [],
   "source": [
    "def getProbability(clusters):\n",
    "  total = len(clusters)\n",
    "  count = sorted(Counter(clusters).items())\n",
    "  for m,n in enumerate(count):\n",
    "    count[m] = n[1]/total\n",
    "  return count\n",
    "\n",
    "def getUtility(probability,distance):\n",
    "  probability.append(0)\n",
    "  utility = []\n",
    "  for i in range(len(probability)):\n",
    "    utility.append( round(probability[i] / distance[i],4) )\n",
    "  return utility\n",
    "  \n"
   ]
  },
  {
   "cell_type": "markdown",
   "id": "yafBdcPUScPY",
   "metadata": {
    "id": "yafBdcPUScPY"
   },
   "source": [
    "# **Storing the data in Array**"
   ]
  },
  {
   "cell_type": "code",
   "execution_count": null,
   "id": "29f0d549",
   "metadata": {
    "ExecuteTime": {
     "end_time": "2021-06-05T08:41:11.573110Z",
     "start_time": "2021-06-05T08:41:04.325653Z"
    },
    "id": "29f0d549"
   },
   "outputs": [],
   "source": [
    "dataset = pd.read_csv(\"./dataset.csv\")\n",
    "dataset = dataset.iloc[:, :]\n",
    "arr = [[[] for x in range(48)] for x in range(7)]\n",
    "in_array()"
   ]
  },
  {
   "cell_type": "markdown",
   "id": "E7EApMkjSluC",
   "metadata": {
    "id": "E7EApMkjSluC"
   },
   "source": [
    "# **Main Execution**"
   ]
  },
  {
   "cell_type": "code",
   "execution_count": null,
   "id": "130ada07",
   "metadata": {
    "ExecuteTime": {
     "end_time": "2021-06-05T10:00:20.839774Z",
     "start_time": "2021-06-05T10:00:05.092699Z"
    },
    "colab": {
     "base_uri": "https://localhost:8080/",
     "height": 1000
    },
    "id": "130ada07",
    "outputId": "a46263a9-91c8-488c-9a67-428d6e0a6544"
   },
   "outputs": [],
   "source": [
    "_day_ = getdayCode(input(\"Enter the Day: \").strip())\n",
    "_time_ = get_time_zone(input(\"Enter the Time(24 hr): \"))\n",
    "_pos_ = input(\"Enter your current location(address): \")\n",
    "\n",
    "\n",
    "zones = get_clusters(np.array(arr[_day_][_time_]))\n",
    "probability = getProbability(zones[0])\n",
    "\n",
    "dist = get_Distance(zones[1],_pos_)\n",
    "\n",
    "utility = getUtility(probability,dist[0])\n",
    "utility[-1] = sum(utility)/len(utility)\n",
    "\n",
    "min_dist = min(dist[0][:-1])\n",
    "nearest_cluster = dist[0][:-1].index(min_dist)\n",
    "\n",
    "max_util = max(utility[:-1])\n",
    "max_util_zone = utility[:-1].index(max_util)\n",
    "\n",
    "\n",
    "print(\"The nearest zone from the current location is Zone-\", nearest_cluster, 'at a distance of', min_dist, 'km')\n",
    "print(\"The maximum utility zone is Zone-\",max_util_zone,'with utility of',max_util)\n",
    "\n",
    "\n",
    "df1 = pd.DataFrame(arr[_day_][_time_], columns=['Latitude', 'Longitude']) \n",
    "\n",
    "df2 = pd.DataFrame(zones[0], columns=['Zone'])\n",
    "\n",
    "data1 = pd.concat([df1, df2], axis=1)\n",
    "\n",
    "\n",
    "\n",
    "df3 = pd.DataFrame(zones[1], columns=['Centroid Latitude', 'Centroid Longitude'])\n",
    "\n",
    "df4 = pd.DataFrame(dist[0], columns=['Distance'])\n",
    "\n",
    "\n",
    "df5 = pd.DataFrame(dist[1], columns=['Point'])\n",
    "\n",
    "df6 = pd.DataFrame(utility, columns=['Utility'])\n",
    "\n",
    "\n",
    "data2 = pd.concat([df3, df4, df5, df6], axis=1)\n",
    "\n",
    "\n",
    "\n",
    "plot_data(data1, data2)\n",
    "    "
   ]
  }
 ],
 "metadata": {
  "accelerator": "TPU",
  "colab": {
   "collapsed_sections": [],
   "name": "Final_Build.ipynb",
   "provenance": []
  },
  "kernelspec": {
   "display_name": "Python 3 (ipykernel)",
   "language": "python",
   "name": "python3"
  },
  "language_info": {
   "codemirror_mode": {
    "name": "ipython",
    "version": 3
   },
   "file_extension": ".py",
   "mimetype": "text/x-python",
   "name": "python",
   "nbconvert_exporter": "python",
   "pygments_lexer": "ipython3",
   "version": "3.11.2"
  }
 },
 "nbformat": 4,
 "nbformat_minor": 5
}
